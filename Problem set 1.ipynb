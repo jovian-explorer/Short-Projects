{
  "nbformat": 4,
  "nbformat_minor": 0,
  "metadata": {
    "colab": {
      "name": "assignment 1.ipynb",
      "provenance": [],
      "collapsed_sections": [],
      "include_colab_link": true
    },
    "kernelspec": {
      "name": "python3",
      "display_name": "Python 3"
    },
    "language_info": {
      "name": "python"
    }
  },
  "cells": [
    {
      "cell_type": "markdown",
      "metadata": {
        "id": "view-in-github",
        "colab_type": "text"
      },
      "source": [
        "<a href=\"https://colab.research.google.com/github/mars-orbiter/Short-Projects/blob/main/Problem%20set%201.ipynb\" target=\"_parent\"><img src=\"https://colab.research.google.com/assets/colab-badge.svg\" alt=\"Open In Colab\"/></a>"
      ]
    },
    {
      "cell_type": "markdown",
      "metadata": {
        "id": "pWSqCRU4Uac6"
      },
      "source": [
        "##**2.1 Problem 1**\n",
        "Encode the following algorithm and run it to determine the smallest positive number that can be *represented* on the computer you are using:\n",
        "\n",
        "input s <--- 1.0\n",
        "\n",
        "for k=1,2,3,...,100 do\n",
        "\n",
        "s <--- 0.5*s\n",
        "\n",
        "t <--- s + 1.0\n",
        "\n",
        "if t <= 1.0 then\n",
        "\n",
        "s <--- 2.0*s\n",
        "\n",
        "output k-1, s\n",
        "\n",
        "stop\n",
        "\n",
        "endif\n",
        "\n",
        "end\n",
        "\n",
        "Do this for both single precision and double precision \n",
        "floating point numbers.\n",
        "\n"
      ]
    },
    {
      "cell_type": "code",
      "metadata": {
        "colab": {
          "base_uri": "https://localhost:8080/"
        },
        "id": "wRW5vnU4Qhuw",
        "outputId": "c68de656-361e-4c97-d96c-76bf2e21e034"
      },
      "source": [
        "import numpy as np\n",
        "\n",
        "s=1.00\n",
        "\n",
        "#range gives you a range of numbers\n",
        "#range(inclusive_start, exclusive_end, step).\n",
        "for k in range(1,101,1): \n",
        "\n",
        "    s= np.float32(0.5*s)\n",
        "    \n",
        "    t= np.float32(s + 1.00)\n",
        "    \n",
        "\n",
        "    if t <= 1.00:\n",
        "    \n",
        "      s = 2.0*s\n",
        "      break\n",
        "# Gives Single Precision output      \n",
        "print (\"Single Precision:\", k-1,s) "
      ],
      "execution_count": null,
      "outputs": [
        {
          "output_type": "stream",
          "text": [
            "Single Precision: 52 2.220446e-16\n",
            "Double Precision: 52 2.220446049250313e-16\n"
          ],
          "name": "stdout"
        }
      ]
    },
    {
      "cell_type": "code",
      "metadata": {
        "colab": {
          "base_uri": "https://localhost:8080/"
        },
        "id": "MWWvoZW5RFL7",
        "outputId": "2cfe3348-d5c8-4e55-a93b-b4a2aed903e7"
      },
      "source": [
        "import numpy as np\n",
        "\n",
        "s=1.00\n",
        "\n",
        "# range gives you a range of numbers.\n",
        "# range(inclusive_start, exclusive_end, step).\n",
        "for k in range(1,101,1):  \n",
        "\n",
        "    s= np.float64(0.5*s)\n",
        "    \n",
        "    t= np.float64(s + 1.00)\n",
        "    \n",
        "    \n",
        "    if t <= 1.00:\n",
        "    \n",
        "       s = 2.0*s\n",
        "       break\n",
        "# Gives Double Precision output\n",
        "print (\"Double Precision:\", k-1,s) "
      ],
      "execution_count": null,
      "outputs": [
        {
          "output_type": "stream",
          "text": [
            "Double Precision: 52 2.220446049250313e-16\n"
          ],
          "name": "stdout"
        }
      ]
    },
    {
      "cell_type": "markdown",
      "metadata": {
        "id": "Yf6JQwkXd0HK"
      },
      "source": [
        "## **2.2 Problem 2**\n",
        "Evaluate the expression\n",
        "$$\n",
        "y =  y = \\sqrt{(x^2 + 1.0)} - 1.0\n",
        "$$\n",
        "in two ways:\n",
        "$$\n",
        "y = \\sqrt{(x^2 + 1.0)}- 1.0 \n",
        "$$\n",
        "and \n",
        "$$\n",
        "y = \\frac {x^2}{[\\sqrt{(x^2 + 1.0)} + 1.0]}\n",
        "$$\n",
        "for small values of x, x=0.1, 0.01 and 0.001. \n",
        "\n",
        "Determine the fractional error in both the methods of performing the subtraction. Which method is superior and why?"
      ]
    },
    {
      "cell_type": "code",
      "metadata": {
        "colab": {
          "base_uri": "https://localhost:8080/"
        },
        "id": "N0yRJoRCraut",
        "outputId": "712bf8d7-1d5a-4777-a28c-0369f0cbcc04"
      },
      "source": [
        "# Importing the numpy libraries\n",
        "# Importing the numpy libraries\n",
        "import numpy as np                                             \n",
        " \n",
        " # Setting x and y as lists containing values for which we will perform the two methods\n",
        "x=[0.1,0.01,0.001]                                            \n",
        "y=[0.004987562112089027021926491275957619,0.000049998750062496094023416993798697,0.000000499999875000062499960937527343]                                              \n",
        " \n",
        "print('Value of x    ',\"  \",\" Value of Fn 1\",\"          \", \" Value of Fn 2 \",\"         \",\"Fractional Error 1\",\"\",\"Percentage Error 1\",\"\" , \"Fractional Error 2\",\"\",\"Percentage Error 2\",\"\",\"Difference \")\n",
        "print('_________________________________________________________________________________________________________________________________________________________')\n",
        " \n",
        "for z in x:\n",
        "  for q in y:\n",
        " \n",
        "# Searches for a given element from the list and returns the lowest index where the element appears \n",
        "    g=x.index(z)                                                                                 \n",
        "    q=y.index(q)                                               \n",
        " \n",
        "    \n",
        "    # Method 1 to solve for y using the values given for x\n",
        "    y1 = np.float128((np.sqrt((x[g]**2) + 1))- 1)\n",
        "    # Method 2 to solve for y using the values given for x              \n",
        "    y2 = np.float128(x[g]**2 / ((np.sqrt(x[g]**2 + 1.0))+1.0)) \n",
        "    \n",
        "    # To calculate the fractional error for method 1\n",
        "    Frac_error1 = abs((y[q]-y1)/y[q])                          \n",
        "    # To calculate the percentage error for method 1\n",
        "    Per_error1 = Frac_error1*100                               \n",
        "    \n",
        "    # To calculate the fractional error for method 2\n",
        "    Frac_error2 = abs((y[q]-y2)/y[q])  \n",
        "    # To calculate the percentage error for method 2                        \n",
        "    Per_error2 = Frac_error2*100 \n",
        "  \n",
        "    #To test which method is superior\n",
        "    #I subtracted one error from other to check which error is greater\n",
        "    #The greater error will give a negative value when subtracted from a smaller value and vice versa.\n",
        "    difference= Per_error1- Per_error2                 \n",
        "  \n",
        "  print(' %.3f     '%x[g],'  %.17f     '%y1,'    %.17f   '%y2,'     %e  '%Frac_error1,'       %e'%Per_error1,'     %e      '%Frac_error2,'  %e'%Per_error2,'   %e'%difference)\n",
        "    # To give a blank row after each row. No use, just to improve the aesthetics of the table\n",
        "  print('')"
      ],
      "execution_count": null,
      "outputs": [
        {
          "output_type": "stream",
          "name": "stdout",
          "text": [
            "Value of x         Value of Fn 1             Value of Fn 2            Fractional Error 1  Percentage Error 1  Fractional Error 2  Percentage Error 2  Difference \n",
            "_________________________________________________________________________________________________________________________________________________________\n",
            " 0.100        0.00498756211208895          0.00498756211208903         9.974127e+03          9.974127e+05      9.974127e+03         9.974127e+05    -1.543901e-08\n",
            "\n",
            " 0.010        0.00004999875006240          0.00004999875006250         9.899753e+01          9.899753e+03      9.899753e+01         9.899753e+03    -1.989511e-08\n",
            "\n",
            " 0.001        0.00000049999987506          0.00000049999987500         1.174278e-10          1.174278e-08      2.117583e-16         2.117583e-14    1.174276e-08\n",
            "\n"
          ]
        }
      ]
    },
    {
      "cell_type": "markdown",
      "metadata": {
        "id": "rA0pD7sIkj6v"
      },
      "source": [
        "## **2.3 Problem 3**\n",
        "It is desired to calculate all integral powers of the number\n",
        "$$\n",
        "x =  \\sqrt{(5.0)} - 1.0)/2.0\n",
        "$$\n",
        " It turns out that the integral powers of x satisfy a simple recursive relation\n",
        "$$\n",
        "  x^{n+1} = x^{n-1} - x^n\n",
        "$$\n",
        "  Show that the above recurrence relation is unstable by calculating $$x^{16}, x^{30}, x^{40} and x^{50} $$ from the recurrence relation and comparing with the actual values."
      ]
    },
    {
      "cell_type": "code",
      "metadata": {
        "colab": {
          "base_uri": "https://localhost:8080/"
        },
        "id": "BuhUoh4uP9rk",
        "outputId": "e6b3e9c1-6eb5-465a-c825-27cc9d912eee"
      },
      "source": [
        "import numpy as np\n",
        "\n",
        "#defining the value of x \n",
        "x  = (np.sqrt(5.0)-1.0)/2.0\n",
        "\n",
        "#defining an array of powers of x for which we have to check the function\n",
        "y = np.array([16,30,40,50])\n",
        "\n",
        "\n",
        "print('Power of x',\"  \",\"LHS= Value from f1\",\"    \", \"RHS= Value from f2 \",\"  \", \"Difference\")\n",
        "print('_______________________________________________________________________________')\n",
        "\n",
        "#defining functions f1 and f2 which take values of power from y\n",
        "for i in range(0,4):\n",
        "\n",
        "  def f1(a,b):\n",
        "      p = np.float64(a**b)\n",
        "      return p\n",
        "  def f2(a,b):\n",
        "      q = np.float64(a**(b-2) - (a**(b-1)))\n",
        "      return q\n",
        "      \n",
        "  #defining the two sides of the equation as LHS and RHS    \n",
        "  LHS=f1(x,y[i])\n",
        "  RHS=f2(x,y[i])\n",
        "  #calculating the difference betwwen the values of LHS and RHS  \n",
        "  diff= np.float64(abs(f1(x,y[i])-f2(x,y[i])))\n",
        "\n",
        "  print('    %d       '%y[i],'   %e  '%LHS,'        %e'%RHS,'       %e      '%diff)\n",
        "  print('') "
      ],
      "execution_count": null,
      "outputs": [
        {
          "output_type": "stream",
          "text": [
            "Power of x    LHS= Value from f1      RHS= Value from f2     Difference\n",
            "_______________________________________________________________________________\n",
            "    16           4.531039e-04           4.531039e-04        1.084202e-19      \n",
            "\n",
            "    30           5.374905e-07           5.374905e-07        2.117582e-22      \n",
            "\n",
            "    40           4.370130e-09           4.370130e-09        2.481542e-24      \n",
            "\n",
            "    50           3.553186e-11           3.553186e-11        1.938705e-26      \n",
            "\n"
          ],
          "name": "stdout"
        }
      ]
    },
    {
      "cell_type": "markdown",
      "metadata": {
        "id": "v_c-OF4CpSJH"
      },
      "source": [
        "## **2.4 Problem 4**\n",
        "The recurrence relation\n",
        "$$\n",
        "\\hspace{1cm}y_{n+1} = e - (n + 1)y_n \n",
        "$$\n",
        "(where e is the base of natural logarithm) can be obtained from integration by parts to the integral \n",
        "$$\n",
        "y_n =  \\int_{0}^{1}x^ne^x\\,dx \n",
        "$$\n",
        "Show that the above recurrence relation is unstable by calculating $$y_{15}$$ and $$y_{20}$$from the recurrence relation. "
      ]
    },
    {
      "cell_type": "code",
      "metadata": {
        "id": "pBku10CXaCqn",
        "colab": {
          "base_uri": "https://localhost:8080/"
        },
        "outputId": "5f294dd1-8eb8-45e1-a022-38369dd66ff8"
      },
      "source": [
        "from scipy.integrate import quad\n",
        "import numpy as np\n",
        "\n",
        "#defining the recurrence function\n",
        "def R(N,n):\n",
        "    return (np.e - (n+1)*N)\n",
        "\n",
        "#defining the function to be integrated\n",
        "def f(x,n):\n",
        "    return (x**n) * np.exp(x) \n",
        "#defining the integration function with its limits\n",
        "def I(n):\n",
        "    return quad(f, 0, 1, args=n)\n",
        "\n",
        "n=np.array([15,20])\n",
        "\n",
        "# creating a list of calculated values using recurrence relation \n",
        "N = np.float64(I(1)[0])\n",
        "rec = [0.0,np.float64(N)]\n",
        "print(\"Y_n\",\"    \",\"Value from recurrence relation\")\n",
        "for m in range(1,22,1):\n",
        "    N = np.float64(R(N,m))\n",
        "    rec.append(N)\n",
        "    #all values calculated using recurrence relation from y_2 to y_22\n",
        "    print(\"y_%d \"%(m+1),'        ',N)\n",
        "\n",
        "print('')\n",
        "\n",
        "print('Value of n','  ','Using numerical integration','  ','Using recurrence relation','    ','Fractional Error','       ','Estimated error')\n",
        "print('~~~~~~~~~~~~~~~~~~~~~~~~~~~~~~~~~~~~~~~~~~~~~~~~~~~~~~~~~~~~~~~~~~~~~~~~~~~~~~~~~~~~~~~~~~~~~~~~~~~~~~~~~~~~~~~~~~~~~~~~~~~~~')\n",
        "# comparing both methods for functions given in question \n",
        "for k in range(len(n)):\n",
        "    print('  ',n[k],'           ',I(n[k])[0],'         ',rec[n[k]],'     ',(abs(I(n[k])[0] - rec[n[k]])/I(n[k])[0]),'    ',I(n[k])[1])\n",
        "    print('')"
      ],
      "execution_count": null,
      "outputs": [
        {
          "output_type": "stream",
          "text": [
            "Y_n      Value from recurrence relation\n",
            "y_2           0.7182818284590451\n",
            "y_3           0.5634363430819098\n",
            "y_4           0.4645364561314058\n",
            "y_5           0.395599547802016\n",
            "y_6           0.34468454164694906\n",
            "y_7           0.30549003693040166\n",
            "y_8           0.27436153301583177\n",
            "y_9           0.24902803131655915\n",
            "y_10           0.22800151529345358\n",
            "y_11           0.21026516023105568\n",
            "y_12           0.19509990568637692\n",
            "y_13           0.18198305453614516\n",
            "y_14           0.17051906495301283\n",
            "y_15           0.1604958541638526\n",
            "y_16           0.15034816183740363\n",
            "y_17           0.16236307722318344\n",
            "y_18           -0.2042535615582568\n",
            "y_19           6.599099498065924\n",
            "y_20           -129.26370813285942\n",
            "y_21           2717.256152618507\n",
            "y_22           -59776.91707577869\n",
            "\n",
            "Value of n    Using numerical integration    Using recurrence relation      Fractional Error         Estimated error\n",
            "~~~~~~~~~~~~~~~~~~~~~~~~~~~~~~~~~~~~~~~~~~~~~~~~~~~~~~~~~~~~~~~~~~~~~~~~~~~~~~~~~~~~~~~~~~~~~~~~~~~~~~~~~~~~~~~~~~~~~~~~~~~~~\n",
            "   15             0.16042630893253407           0.1604958541638526       0.0004335026578949139      1.7810898193252774e-15\n",
            "\n",
            "   20             0.12380383076256998           -129.26370813285942       1045.101037396495      1.6808102031436923e-11\n",
            "\n"
          ],
          "name": "stdout"
        }
      ]
    },
    {
      "cell_type": "markdown",
      "metadata": {
        "id": "WMEd2gM7pR6m"
      },
      "source": [
        "## **2.5 Problem 5**\n",
        "Compute the dot product of the following two vectors\n",
        "$$\n",
        "x = [2.718281823, -3.141592654, 1.414213562, 0.5772156649, 0.3010299957]\n",
        "$$\n",
        "and\n",
        "$$\n",
        "y = [1486.2497, 878366.9879, -22.37492, 4773714.647, 0.000185049]\n",
        "$$\n",
        "\n",
        "Compute the summation in four ways:\n",
        "\n",
        "1. forward order summation $$\\{x_iy_i\\}$$ for i = 1,n.\n",
        "\n",
        "2. reverse order summation $$\\{x_iy_i\\}$$ for i = n,1.\n",
        "\n",
        "3. largest to smallest order (add positive numbers in order from largest to smallest, then add negative numbers in order from smallest to largest and then add the two partial sums).\n",
        "\n",
        "4. smallest to largest order (reverse order of adding in the previous method).\n",
        "\n",
        "\n",
        "Use both single and double precision for a total of eight answers. Compare the results with the correct value $$ 1.006571 x 10^{-9}$$"
      ]
    },
    {
      "cell_type": "markdown",
      "metadata": {
        "id": "Mq20hQ5RG_z6"
      },
      "source": [
        "###Code for forward order summation-"
      ]
    },
    {
      "cell_type": "code",
      "metadata": {
        "colab": {
          "base_uri": "https://localhost:8080/"
        },
        "id": "M1KdNxC0eG5K",
        "outputId": "2e6d6d1c-64c6-4748-c835-b931a0cd41d7"
      },
      "source": [
        "import numpy as np\n",
        "\n",
        "#defining the two vectors\n",
        "x = [2.718281823, -3.141592654, 1.414213562, 0.5772156649, 0.3010299957]\n",
        "y = [1486.2497, 878366.9879, -22.37492, 4773714.647, 0.000185049]\n",
        "\n",
        "#given correct value for dot product\n",
        "correct_val = 1.006571 * 10**(-9)\n",
        "#defining empty lists to store the values\n",
        "list1 = []\n",
        "list2 = []\n",
        "\n",
        "dot_32 = 0\n",
        "dot_64 = 0\n",
        "#calculation of products\n",
        "#prod_32 is for single precision\n",
        "#prod_64 for double precision\n",
        "for i in range(len(x)):\n",
        "   \n",
        "    prod_32 = np.float32(x[i]*y[i])\n",
        "    list1.append(prod_32)\n",
        "\n",
        "    prod_64 = np.float64(x[i]*y[i])\n",
        "    list2.append(prod_64)\n",
        "\n",
        "#summation of dot products of the vectors with single and double precision methods\n",
        "#dot_32 is for single precision\n",
        "#dot_64 for double precision\n",
        "for i in range(len(list1)):\n",
        "  dot_32 = dot_32 +list1[i]\n",
        "  dot_64 = dot_64 +list2[i]\n",
        "#calculation of error compared to correct value\n",
        "#e32 is for single precision\n",
        "#e64 for double precision\n",
        "e32 = (abs(correct_val - dot_32)/correct_val)*100\n",
        "e64 = (abs(correct_val - dot_64)/correct_val)*100\n",
        "\n",
        "#getting the output for forward summation\n",
        "print('''Dot Product in Forward order:\n",
        "-----------------------------\n",
        "For Single Precision: {}                                             = {}\n",
        "For Double Precision: {}  = {}\n",
        "\n",
        "% Error in Single precision method = {}\n",
        "% Error in Double precision method = {}\n",
        "'''.format(list1, dot_32, list2, dot_64, e32, e64))\n"
      ],
      "execution_count": null,
      "outputs": [
        {
          "output_type": "stream",
          "name": "stdout",
          "text": [
            "Dot Product in Forward order:\n",
            "-----------------------------\n",
            "For Single Precision: [4040.0457, -2759471.2, -31.642916, 2755462.8, 5.57053e-05]                                             = -0.09720572353398893\n",
            "For Double Precision: [4040.045543949203, -2759471.2767027467, -31.64291531266504, 2755462.8740109736, 5.57052996742893e-05]  = -7.431385965330528e-06\n",
            "\n",
            "% Error in Single precision method = 9657115547.791454\n",
            "% Error in Double precision method = 738387.3106150016\n",
            "\n"
          ]
        }
      ]
    },
    {
      "cell_type": "markdown",
      "metadata": {
        "id": "Y7G2EciJHdxu"
      },
      "source": [
        "###Code for reverse order summation-"
      ]
    },
    {
      "cell_type": "code",
      "metadata": {
        "colab": {
          "base_uri": "https://localhost:8080/"
        },
        "id": "xgUMw0U4HkPQ",
        "outputId": "71c4d0fa-f0eb-4b00-a3ee-22aef83b5dc3"
      },
      "source": [
        "list1.clear()\n",
        "list2.clear()\n",
        "\n",
        "dot_32 = 0\n",
        "dot_64 = 0\n",
        "\n",
        "#calculation of products\n",
        "#prod_32 is for single precision\n",
        "#prod_64 for double precision\n",
        "for i in range(0, len(x)):\n",
        "  j = (len(x) - 1) - i\n",
        "   \n",
        "  prod_32 = np.float32(x[j] * y[j])\n",
        "  list1.append(prod_32)\n",
        "\n",
        "  prod_64 = np.float64(x[j]*y[j])\n",
        "  list2.append(prod_64)\n",
        "#summation of dot products of the vectors with single and double precision methods\n",
        "for i in range(0, len(x)):\n",
        "  j = (len(x) - 1) - i\n",
        "#dot_32 is for single precision\n",
        "#dot_64 for double precision\n",
        "  dot_32 = dot_32 +list1[j]\n",
        "  dot_64 = dot_64 +list2[j]\n",
        "#calculation of error compared to correct value\n",
        "#e32 is for single precision\n",
        "#e64 for double precision\n",
        "e32 = (abs(correct_val - dot_32)/correct_val)*100\n",
        "e64 = (abs(correct_val - dot_64)/correct_val)*100\n",
        "\n",
        "\n",
        "#getting the output \n",
        "print('''Dot Product in Reverse order:\n",
        "-----------------------------\n",
        "For Single Precision: {}                                             = {}\n",
        "For Double Precision: {}  = {}\n",
        "\n",
        "% Error in Single precision method = {}\n",
        "% Error in Double precision method = {}\n",
        "'''.format(list1, dot_32, list2, dot_64, e32, e64))"
      ],
      "execution_count": null,
      "outputs": [
        {
          "output_type": "stream",
          "name": "stdout",
          "text": [
            "Dot Product in Reverse order:\n",
            "-----------------------------\n",
            "For Single Precision: [5.57053e-05, 2755462.8, -31.642916, -2759471.2, 4040.0457]                                             = -0.09720572353398893\n",
            "For Double Precision: [5.57052996742893e-05, 2755462.8740109736, -31.64291531266504, -2759471.2767027467, 4040.045543949203]  = -7.431385965330528e-06\n",
            "\n",
            "% Error in Single precision method = 9657115547.791454\n",
            "% Error in Double precision method = 738387.3106150016\n",
            "\n"
          ]
        }
      ]
    },
    {
      "cell_type": "markdown",
      "metadata": {
        "id": "DnrkQnksHr1t"
      },
      "source": [
        "###Code for largest to smallest order(add positive numbers in order from largest to smallest, then add negative numbers in order from smallest to largest and then add the two partial sums)."
      ]
    },
    {
      "cell_type": "code",
      "metadata": {
        "colab": {
          "base_uri": "https://localhost:8080/"
        },
        "id": "RWVizxfOHsSW",
        "outputId": "768761b5-abdc-45f2-c40f-a82624208af6"
      },
      "source": [
        "list1.sort(reverse=True)\n",
        "list2.sort(reverse=True)\n",
        "\n",
        "pos_list1 = []\n",
        "neg_list1 = []\n",
        "\n",
        "pos_list2 = []\n",
        "neg_list2 = []\n",
        "#pspos_32 means partial sum of positive terms for single precision\n",
        "#psneg_32 means partial sum of negative terms for single precision\n",
        "#pspos_64 means partial sum of positive terms for double precision\n",
        "#psneg_64 means partial sum of negative terms for double precision\n",
        "pspos_32=0\n",
        "psneg_32=0\n",
        "pspos_64=0\n",
        "psneg_64=0\n",
        "\n",
        "dot_32 = 0\n",
        "dot_64 = 0\n",
        "#summation of dot products of the vectors with single precision\n",
        "for i in range(0, len(list1)):\n",
        "  if list1[i] > 0:\n",
        "    pos_list1.append(list1[i])\n",
        "    pspos_32 = pspos_32 + list1[i]\n",
        "  else:\n",
        "    neg_list1.append(list1[i])\n",
        "    psneg_32 = psneg_32 + list1[i]\n",
        "#summation of dot products of the vectors with double precision\n",
        "for i in range(0, len(list2)):\n",
        "  if list2[i] > 0:\n",
        "    pos_list2.append(list2[i])\n",
        "    pspos_64 = pspos_64 + list2[i]\n",
        "  else:\n",
        "    neg_list2.append(list2[i])\n",
        "    psneg_64 = psneg_64 + list2[i]\n",
        "#final value of dot products of the vectors with single and double precision methods\n",
        "dot_32 = pspos_32 + psneg_32\n",
        "dot_64 = pspos_64 + psneg_64\n",
        "#calculation of error compared to correct value\n",
        "#e32 is for single precision\n",
        "#e64 for double precision\n",
        "e32 = (abs(correct_val - dot_32)/correct_val)*100\n",
        "e64 = (abs(correct_val - dot_64)/correct_val)*100\n",
        "#getting the output \n",
        "print('''Dot Product in Largest to smallest order:\n",
        "-----------------------------------------\n",
        "For Single Precision:\n",
        "---------------------\n",
        "    List of Positive terms: {}    = {}\n",
        "    List of Negative terms: {}               = {}\n",
        "\n",
        "    Dot Product = {}\n",
        "    % Error= {}\n",
        "\n",
        "For Double Precision:\n",
        "---------------------\n",
        "    List of Positive terms: {} = {}\n",
        "    List of Negative terms: {}                     = {}\n",
        "\n",
        "    Dot Product = {}\n",
        "    % Error= {}\n",
        "'''.format(pos_list1,pspos_32, neg_list1,psneg_32,dot_32, e32, pos_list2, pspos_64, neg_list2, psneg_64, dot_64, e64))\n"
      ],
      "execution_count": null,
      "outputs": [
        {
          "output_type": "stream",
          "text": [
            "Dot Product in Largest to smallest order:\n",
            "-----------------------------------------\n",
            "For Single Precision:\n",
            "---------------------\n",
            "    List of Positive terms: [2755462.8, 4040.0457, 5.57053e-05]    = 2759502.795710002\n",
            "    List of Negative terms: [-31.642916, -2759471.2]               = -2759502.8929157257\n",
            "\n",
            "    Dot Product = -0.09720572363585234\n",
            "    % Error= 9657115557.911297\n",
            "\n",
            "For Double Precision:\n",
            "---------------------\n",
            "    List of Positive terms: [2755462.8740109736, 4040.045543949203, 5.57052996742893e-05] = 2759502.919610628\n",
            "    List of Negative terms: [-31.64291531266504, -2759471.2767027467]                     = -2759502.9196180594\n",
            "\n",
            "    Dot Product = -7.431488484144211e-06\n",
            "    % Error= 738397.4955710238\n",
            "\n"
          ],
          "name": "stdout"
        }
      ]
    },
    {
      "cell_type": "markdown",
      "metadata": {
        "id": "PFvU9QtdH76D"
      },
      "source": [
        "###Code for smallest to largest order (reverse order of adding in the previous method).\n"
      ]
    },
    {
      "cell_type": "code",
      "metadata": {
        "colab": {
          "base_uri": "https://localhost:8080/"
        },
        "id": "2-GKQSqcH8eD",
        "outputId": "89f34cfb-ab26-4164-9171-941d703d1e80"
      },
      "source": [
        "list1.sort(reverse=False)\n",
        "list2.sort(reverse=False)\n",
        "\n",
        "pos_list1 = []\n",
        "neg_list1 = []\n",
        "\n",
        "pos_list2 = []\n",
        "neg_list2 = []\n",
        "#pspos_32 means partial sum of positive terms for single precision\n",
        "#psneg_32 means partial sum of negative terms for single precision\n",
        "#pspos_64 means partial sum of positive terms for double precision\n",
        "#psneg_64 means partial sum of negative terms for double precision\n",
        "pspos_32=0\n",
        "psneg_32=0\n",
        "pspos_64=0\n",
        "psneg_64=0\n",
        "\n",
        "dot_32 = 0\n",
        "dot_64 = 0\n",
        "#summation of dot products of the vectors with single precision\n",
        "for i in range(0, len(list1)):\n",
        "  if list1[i] > 0:\n",
        "    pos_list1.append(list1[i])\n",
        "    pspos_32 = pspos_32 + list1[i]\n",
        "  else:\n",
        "    neg_list1.append(list1[i])\n",
        "    psneg_32 = psneg_32 + list1[i]\n",
        "#summation of dot products of the vectors with double precision\n",
        "for i in range(0, len(list2)):\n",
        "  if list2[i] > 0:\n",
        "    pos_list2.append(list2[i])\n",
        "    pspos_64 = pspos_64 + list2[i]\n",
        "  else:\n",
        "    neg_list2.append(list2[i])\n",
        "    psneg_64 = psneg_64 + list2[i]\n",
        "#final value of dot products of the vectors with single and double precision methods\n",
        "dot_32 = pspos_32 + psneg_32\n",
        "dot_64 = pspos_64 + psneg_64\n",
        "#calculation of error compared to correct value\n",
        "#e32 is for single precision\n",
        "#e64 for double precision\n",
        "e32 = (abs(correct_val - dot_32)/correct_val)*100\n",
        "e64 = (abs(correct_val - dot_64)/correct_val)*100\n",
        "#getting the output \n",
        "print('''Dot Product in Smallest to largest order:\n",
        "-----------------------------------------\n",
        "For Single Precision:\n",
        "---------------------\n",
        "    List of Positive terms: {}    = {}\n",
        "    List of Negative terms: {}               = {}\n",
        "\n",
        "    Dot Product = {}\n",
        "    % Error = {}\n",
        "\n",
        "For Double Precision:\n",
        "---------------------\n",
        "    List of Positive terms: {} = {}\n",
        "    List of Negative terms: {}                     = {}\n",
        "\n",
        "    Dot Product = {}\n",
        "    % Error= {}\n",
        "'''.format(pos_list1,pspos_32, neg_list1,psneg_32,dot_32, e32, pos_list2, pspos_64, neg_list2, psneg_64, dot_64, e64))\n"
      ],
      "execution_count": null,
      "outputs": [
        {
          "output_type": "stream",
          "name": "stdout",
          "text": [
            "Dot Product in Smallest to largest order:\n",
            "-----------------------------------------\n",
            "For Single Precision:\n",
            "---------------------\n",
            "    List of Positive terms: [5.57053e-05, 4040.0457, 2755462.8]    = 2759502.795710002\n",
            "    List of Negative terms: [-2759471.2, -31.642916]               = -2759502.8929157257\n",
            "\n",
            "    Dot Product = -0.09720572363585234\n",
            "    % Error = 9657115557.911297\n",
            "\n",
            "For Double Precision:\n",
            "---------------------\n",
            "    List of Positive terms: [5.57052996742893e-05, 4040.045543949203, 2755462.8740109736] = 2759502.919610628\n",
            "    List of Negative terms: [-2759471.2767027467, -31.64291531266504]                     = -2759502.9196180594\n",
            "\n",
            "    Dot Product = -7.431488484144211e-06\n",
            "    % Error= 738397.4955710238\n",
            "\n"
          ]
        }
      ]
    }
  ]
}